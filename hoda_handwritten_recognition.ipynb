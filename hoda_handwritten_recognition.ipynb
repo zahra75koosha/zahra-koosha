{
  "nbformat": 4,
  "nbformat_minor": 0,
  "metadata": {
    "colab": {
      "name": "hoda_handwritten_recognition.ipynb",
      "provenance": [],
      "collapsed_sections": []
    },
    "kernelspec": {
      "name": "python3",
      "display_name": "Python 3"
    },
    "accelerator": "GPU"
  },
  "cells": [
    {
      "cell_type": "code",
      "metadata": {
        "id": "EO_Rub4CYScI",
        "colab_type": "code",
        "colab": {}
      },
      "source": [
        "!pip3 uninstall tensorflow\n",
        "!pip3 install tensorflow.gpu==2.0.0"
      ],
      "execution_count": 0,
      "outputs": []
    },
    {
      "cell_type": "code",
      "metadata": {
        "id": "mckbigMyZGWe",
        "colab_type": "code",
        "outputId": "66314198-839d-4474-bbf1-f5127778e298",
        "colab": {
          "base_uri": "https://localhost:8080/",
          "height": 130
        }
      },
      "source": [
        "from google.colab import drive\n",
        "drive.mount('/content/drive')"
      ],
      "execution_count": 5,
      "outputs": [
        {
          "output_type": "stream",
          "text": [
            "Go to this URL in a browser: https://accounts.google.com/o/oauth2/auth?client_id=947318989803-6bn6qk8qdgf4n4g3pfee6491hc0brc4i.apps.googleusercontent.com&redirect_uri=urn%3aietf%3awg%3aoauth%3a2.0%3aoob&response_type=code&scope=email%20https%3a%2f%2fwww.googleapis.com%2fauth%2fdocs.test%20https%3a%2f%2fwww.googleapis.com%2fauth%2fdrive%20https%3a%2f%2fwww.googleapis.com%2fauth%2fdrive.photos.readonly%20https%3a%2f%2fwww.googleapis.com%2fauth%2fpeopleapi.readonly\n",
            "\n",
            "Enter your authorization code:\n",
            "··········\n",
            "Mounted at /content/drive\n"
          ],
          "name": "stdout"
        }
      ]
    },
    {
      "cell_type": "code",
      "metadata": {
        "id": "YS189VZjZGlr",
        "colab_type": "code",
        "outputId": "c544295e-0616-4e91-bb15-bb238d16a95a",
        "colab": {
          "base_uri": "https://localhost:8080/",
          "height": 129
        }
      },
      "source": [
        "%cd /content/drive/My Drive/hoda dataset\n",
        "%ls"
      ],
      "execution_count": 6,
      "outputs": [
        {
          "output_type": "stream",
          "text": [
            "/content/drive/My Drive/hoda dataset\n",
            " cnn_model.h5                            \u001b[0m\u001b[01;34m'hoda dataset.py'\u001b[0m/\n",
            " cnn_weight.h5                            \u001b[01;34m__pycache__\u001b[0m/\n",
            "'hoda dataset.h5'                         RemainingSamples.cdb\n",
            " \u001b[01;34mhoda_dataset_handwrite_recognition.py\u001b[0m/  'Test 20000.cdb'\n",
            " hoda_dataset_helper.py                  'Train 60000.cdb'\n"
          ],
          "name": "stdout"
        }
      ]
    },
    {
      "cell_type": "code",
      "metadata": {
        "id": "kzQ15_qcZG00",
        "colab_type": "code",
        "colab": {}
      },
      "source": [
        "from hoda_dataset_helper import read_hoda\n",
        "from hoda_dataset_helper import __read_hoda_dataset\n",
        "from hoda_dataset_helper import __read_hoda_cdb\n",
        "\n",
        "import os\n",
        "import numpy as np\n",
        "import matplotlib.pyplot as plt\n",
        "%matplotlib inline\n",
        "np.random.seed(2)\n",
        "\n",
        "from tensorflow.keras.utils import to_categorical\n",
        "import tensorflow as tf\n",
        "from tensorflow.keras import Model \n",
        "from tensorflow.keras.models import Sequential\n",
        "from tensorflow.keras.layers import Conv2D, Dense, MaxPool2D, Dropout, Flatten"
      ],
      "execution_count": 0,
      "outputs": []
    },
    {
      "cell_type": "markdown",
      "metadata": {
        "id": "FdobttlycOrU",
        "colab_type": "text"
      },
      "source": [
        "Load Dataset"
      ]
    },
    {
      "cell_type": "code",
      "metadata": {
        "id": "fEdYJC_EZHDs",
        "colab_type": "code",
        "colab": {}
      },
      "source": [
        "# Reading train dataset \n",
        "X_train, Y_train = __read_hoda_dataset(dataset_path='./Train 60000.cdb',\n",
        "                                images_height=32,\n",
        "                                images_width=32,\n",
        "                                one_hot=False ,\n",
        "                                reshape=False)"
      ],
      "execution_count": 0,
      "outputs": []
    },
    {
      "cell_type": "code",
      "metadata": {
        "id": "dZoa2Ak6ZHTN",
        "colab_type": "code",
        "colab": {}
      },
      "source": [
        "# reading test dataset\n",
        "X_test, Y_test = __read_hoda_dataset(dataset_path='./Test 20000.cdb',\n",
        "                              images_height=32,\n",
        "                              images_width=32,\n",
        "                              one_hot=False,\n",
        "                              reshape=False)"
      ],
      "execution_count": 0,
      "outputs": []
    },
    {
      "cell_type": "code",
      "metadata": {
        "id": "dLaHCGpXZHih",
        "colab_type": "code",
        "colab": {}
      },
      "source": [
        "# Reading remain samples dataset \n",
        "X_remain, Y_remain = __read_hoda_dataset('./RemainingSamples.cdb',\n",
        "                                             images_height=32,\n",
        "                                             images_width=32,\n",
        "                                             one_hot=False,\n",
        "                                             reshape=False)"
      ],
      "execution_count": 0,
      "outputs": []
    },
    {
      "cell_type": "code",
      "metadata": {
        "id": "4gy0_tUQZHxP",
        "colab_type": "code",
        "colab": {}
      },
      "source": [
        "# reading train image\n",
        "train_images, train_labels = __read_hoda_cdb('./Train 60000.cdb')"
      ],
      "execution_count": 0,
      "outputs": []
    },
    {
      "cell_type": "code",
      "metadata": {
        "id": "t-pHqTR2ZICy",
        "colab_type": "code",
        "colab": {}
      },
      "source": [
        "# reading test image\n",
        "test_images, test_labels = __read_hoda_cdb('./Test 20000.cdb')"
      ],
      "execution_count": 0,
      "outputs": []
    },
    {
      "cell_type": "code",
      "metadata": {
        "id": "drQ-EsuKdF8M",
        "colab_type": "code",
        "outputId": "ce7fd220-f52b-475f-89e7-52ca3a5f7a14",
        "colab": {
          "base_uri": "https://localhost:8080/",
          "height": 232
        }
      },
      "source": [
        "# plot a data sample\n",
        "\n",
        "fig = plt.figure(figsize=(15, 3))\n",
        "plt.imshow(train_images[11])"
      ],
      "execution_count": 13,
      "outputs": [
        {
          "output_type": "execute_result",
          "data": {
            "text/plain": [
              "<matplotlib.image.AxesImage at 0x7fc586eeafd0>"
            ]
          },
          "metadata": {
            "tags": []
          },
          "execution_count": 13
        },
        {
          "output_type": "display_data",
          "data": {
            "image/png": "[encoded data removed]",
            "text/plain": [
              "<Figure size 1080x216 with 1 Axes>"
            ]
          },
          "metadata": {
            "tags": [],
            "needs_background": "light"
          }
        }
      ]
    },
    {
      "cell_type": "code",
      "metadata": {
        "id": "A2E1di4UdMN2",
        "colab_type": "code",
        "colab": {}
      },
      "source": [
        "#normalization\n",
        "X_train =X_train / 255.0\n",
        "X_test = X_test /255.0\n",
        "X_remain= X_remain /255.0"
      ],
      "execution_count": 0,
      "outputs": []
    },
    {
      "cell_type": "code",
      "metadata": {
        "id": "0-Km4lHKePSC",
        "colab_type": "code",
        "colab": {}
      },
      "source": [
        "# reshape the train and remain samples to 3 dimension\n",
        "X_train= X_train.reshape(60000,32,32,1)\n",
        "X_remain= X_remain.reshape(22352,32,32,1)\n",
        "X_test= X_test.reshape(20000,32,32,1)"
      ],
      "execution_count": 0,
      "outputs": []
    },
    {
      "cell_type": "code",
      "metadata": {
        "id": "XdwIS7fMptyP",
        "colab_type": "code",
        "colab": {}
      },
      "source": [
        "Y_train  =   to_categorical(Y_train, num_classes = 10)\n",
        "Y_test   =   to_categorical(Y_test, num_classes = 10)\n",
        "Y_remain =   to_categorical(Y_remain, num_classes = 10)"
      ],
      "execution_count": 0,
      "outputs": []
    },
    {
      "cell_type": "code",
      "metadata": {
        "id": "JljKpUsvezCr",
        "colab_type": "code",
        "outputId": "4ab9e86d-3e79-45d5-f6a9-562fe338c2b9",
        "colab": {
          "base_uri": "https://localhost:8080/",
          "height": 129
        }
      },
      "source": [
        "print(f'shape of X_train : {X_train.shape}')\n",
        "print(f'shape of Y_train : {Y_train.shape}')\n",
        "\n",
        "print(f'shape of X_test i: {X_test.shape}')\n",
        "print(f'shape of Y_test  : {Y_test.shape}')\n",
        "\n",
        "print(f'shape of X_reamin : {X_remain.shape}')\n",
        "print(f'shape of Y_remain : {Y_remain.shape}')"
      ],
      "execution_count": 17,
      "outputs": [
        {
          "output_type": "stream",
          "text": [
            "shape of X_train : (60000, 32, 32, 1)\n",
            "shape of Y_train : (60000, 10)\n",
            "shape of X_test i: (20000, 32, 32, 1)\n",
            "shape of Y_test  : (20000, 10)\n",
            "shape of X_reamin : (22352, 32, 32, 1)\n",
            "shape of Y_remain : (22352, 10)\n"
          ],
          "name": "stdout"
        }
      ]
    },
    {
      "cell_type": "code",
      "metadata": {
        "id": "NZIK0yeRfMjP",
        "colab_type": "code",
        "colab": {}
      },
      "source": [
        "# split training dataset to validation and train samples\n",
        "random_seed=2\n",
        "from sklearn.model_selection import train_test_split\n",
        "X_train,X_val,Y_train,Y_val= train_test_split(X_train,Y_train,test_size=0.1, random_state=random_seed)"
      ],
      "execution_count": 0,
      "outputs": []
    },
    {
      "cell_type": "code",
      "metadata": {
        "id": "W9Kf1OeTgzK9",
        "colab_type": "code",
        "outputId": "c4179a18-da30-4792-9bfe-7688275be985",
        "colab": {
          "base_uri": "https://localhost:8080/",
          "height": 54
        }
      },
      "source": [
        "print(f'shape of X_val is : {X_val.shape}')\n",
        "print(f'shape of Y_val is : {Y_val.shape}')"
      ],
      "execution_count": 19,
      "outputs": [
        {
          "output_type": "stream",
          "text": [
            "shape of X_val is : (6000, 32, 32, 1)\n",
            "shape of Y_val is : (6000, 10)\n"
          ],
          "name": "stdout"
        }
      ]
    },
    {
      "cell_type": "markdown",
      "metadata": {
        "id": "SNQX8uRihFBv",
        "colab_type": "text"
      },
      "source": [
        "CNN model"
      ]
    },
    {
      "cell_type": "code",
      "metadata": {
        "id": "D6TTN6xyg5s5",
        "colab_type": "code",
        "colab": {}
      },
      "source": [
        "model= Sequential()\n",
        "\n",
        "model.add(Conv2D(32,(5,5), activation='relu', padding='same', input_shape=(32,32,1)))\n",
        "model.add(Conv2D(32,(5,5), activation='relu', padding='same'))\n",
        "model.add(MaxPool2D(pool_size=(2,2)))\n",
        "\n",
        "model.add(Conv2D(64,(3,3), activation='relu', padding='same'))\n",
        "model.add(MaxPool2D(pool_size=(2,2)))\n",
        "model.add(Dropout(0.25))\n",
        "\n",
        "model.add(Conv2D(32,(3,3), activation='relu', padding='same'))#\n",
        "\n",
        "\n",
        "model.add(Flatten())\n",
        "model.add(Dense(512, activation='relu'))\n",
        "model.add(Dropout(0.2))\n",
        "model.add(Dense(10, activation='softmax'))"
      ],
      "execution_count": 0,
      "outputs": []
    },
    {
      "cell_type": "code",
      "metadata": {
        "id": "xdvSVnYjjysF",
        "colab_type": "code",
        "outputId": "36472a17-454e-4c28-c2dd-4b57dd6c00ea",
        "colab": {
          "base_uri": "https://localhost:8080/",
          "height": 576
        }
      },
      "source": [
        "model.summary()"
      ],
      "execution_count": 26,
      "outputs": [
        {
          "output_type": "stream",
          "text": [
            "Model: \"sequential_1\"\n",
            "_________________________________________________________________\n",
            "Layer (type)                 Output Shape              Param #   \n",
            "=================================================================\n",
            "conv2d_4 (Conv2D)            (None, 32, 32, 32)        832       \n",
            "_________________________________________________________________\n",
            "conv2d_5 (Conv2D)            (None, 32, 32, 32)        25632     \n",
            "_________________________________________________________________\n",
            "max_pooling2d_2 (MaxPooling2 (None, 16, 16, 32)        0         \n",
            "_________________________________________________________________\n",
            "conv2d_6 (Conv2D)            (None, 16, 16, 64)        18496     \n",
            "_________________________________________________________________\n",
            "max_pooling2d_3 (MaxPooling2 (None, 8, 8, 64)          0         \n",
            "_________________________________________________________________\n",
            "dropout_2 (Dropout)          (None, 8, 8, 64)          0         \n",
            "_________________________________________________________________\n",
            "conv2d_7 (Conv2D)            (None, 8, 8, 32)          18464     \n",
            "_________________________________________________________________\n",
            "flatten_1 (Flatten)          (None, 2048)              0         \n",
            "_________________________________________________________________\n",
            "dense_2 (Dense)              (None, 512)               1049088   \n",
            "_________________________________________________________________\n",
            "dropout_3 (Dropout)          (None, 512)               0         \n",
            "_________________________________________________________________\n",
            "dense_3 (Dense)              (None, 10)                5130      \n",
            "=================================================================\n",
            "Total params: 1,117,642\n",
            "Trainable params: 1,117,642\n",
            "Non-trainable params: 0\n",
            "_________________________________________________________________\n"
          ],
          "name": "stdout"
        }
      ]
    },
    {
      "cell_type": "code",
      "metadata": {
        "id": "WESU7Gscj2pH",
        "colab_type": "code",
        "colab": {}
      },
      "source": [
        "model.compile(loss='categorical_crossentropy', optimizer='rmsprop', metrics=['accuracy'])"
      ],
      "execution_count": 0,
      "outputs": []
    },
    {
      "cell_type": "code",
      "metadata": {
        "id": "rJQAfHBukUa8",
        "colab_type": "code",
        "colab": {}
      },
      "source": [
        "epochs = 40\n",
        "batch_size = 32"
      ],
      "execution_count": 0,
      "outputs": []
    },
    {
      "cell_type": "code",
      "metadata": {
        "id": "cme3VswQkZDk",
        "colab_type": "code",
        "outputId": "ce727799-afd0-4f2e-d908-02e4cc123ec2",
        "colab": {
          "base_uri": "https://localhost:8080/",
          "height": 1000
        }
      },
      "source": [
        "result=model.fit(X_train, Y_train,epochs=epochs, batch_size=batch_size, validation_data=(X_val,Y_val), verbose=1)\n",
        "                "
      ],
      "execution_count": 29,
      "outputs": [
        {
          "output_type": "stream",
          "text": [
            "Epoch 1/40\n",
            "1688/1688 [==============================] - 10s 6ms/step - loss: 0.3498 - accuracy: 0.8743 - val_loss: 0.0453 - val_accuracy: 0.9853\n",
            "Epoch 2/40\n",
            "1688/1688 [==============================] - 10s 6ms/step - loss: 0.0450 - accuracy: 0.9864 - val_loss: 0.0274 - val_accuracy: 0.9917\n",
            "Epoch 3/40\n",
            "1688/1688 [==============================] - 10s 6ms/step - loss: 0.0314 - accuracy: 0.9907 - val_loss: 0.0328 - val_accuracy: 0.9917\n",
            "Epoch 4/40\n",
            "1688/1688 [==============================] - 10s 6ms/step - loss: 0.0286 - accuracy: 0.9917 - val_loss: 0.0343 - val_accuracy: 0.9885\n",
            "Epoch 5/40\n",
            "1688/1688 [==============================] - 10s 6ms/step - loss: 0.0275 - accuracy: 0.9924 - val_loss: 0.0232 - val_accuracy: 0.9933\n",
            "Epoch 6/40\n",
            "1688/1688 [==============================] - 10s 6ms/step - loss: 0.0263 - accuracy: 0.9927 - val_loss: 0.0199 - val_accuracy: 0.9943\n",
            "Epoch 7/40\n",
            "1688/1688 [==============================] - 10s 6ms/step - loss: 0.0251 - accuracy: 0.9938 - val_loss: 0.0238 - val_accuracy: 0.9935\n",
            "Epoch 8/40\n",
            "1688/1688 [==============================] - 10s 6ms/step - loss: 0.0261 - accuracy: 0.9936 - val_loss: 0.0194 - val_accuracy: 0.9933\n",
            "Epoch 9/40\n",
            "1688/1688 [==============================] - 10s 6ms/step - loss: 0.0252 - accuracy: 0.9936 - val_loss: 0.0262 - val_accuracy: 0.9928\n",
            "Epoch 10/40\n",
            "1688/1688 [==============================] - 10s 6ms/step - loss: 0.0234 - accuracy: 0.9939 - val_loss: 0.0296 - val_accuracy: 0.9927\n",
            "Epoch 11/40\n",
            "1688/1688 [==============================] - 10s 6ms/step - loss: 0.0245 - accuracy: 0.9942 - val_loss: 0.0219 - val_accuracy: 0.9938\n",
            "Epoch 12/40\n",
            "1688/1688 [==============================] - 10s 6ms/step - loss: 0.0258 - accuracy: 0.9934 - val_loss: 0.0247 - val_accuracy: 0.9950\n",
            "Epoch 13/40\n",
            "1688/1688 [==============================] - 10s 6ms/step - loss: 0.0243 - accuracy: 0.9942 - val_loss: 0.0437 - val_accuracy: 0.9918\n",
            "Epoch 14/40\n",
            "1688/1688 [==============================] - 10s 6ms/step - loss: 0.0280 - accuracy: 0.9934 - val_loss: 0.0229 - val_accuracy: 0.9948\n",
            "Epoch 15/40\n",
            "1688/1688 [==============================] - 10s 6ms/step - loss: 0.0250 - accuracy: 0.9940 - val_loss: 0.0319 - val_accuracy: 0.9903\n",
            "Epoch 16/40\n",
            "1688/1688 [==============================] - 10s 6ms/step - loss: 0.0277 - accuracy: 0.9936 - val_loss: 0.0359 - val_accuracy: 0.9905\n",
            "Epoch 17/40\n",
            "1688/1688 [==============================] - 10s 6ms/step - loss: 0.0247 - accuracy: 0.9939 - val_loss: 0.0258 - val_accuracy: 0.9928\n",
            "Epoch 18/40\n",
            "1688/1688 [==============================] - 10s 6ms/step - loss: 0.0287 - accuracy: 0.9937 - val_loss: 0.0265 - val_accuracy: 0.9932\n",
            "Epoch 19/40\n",
            "1688/1688 [==============================] - 10s 6ms/step - loss: 0.0262 - accuracy: 0.9942 - val_loss: 0.0630 - val_accuracy: 0.9882\n",
            "Epoch 20/40\n",
            "1688/1688 [==============================] - 10s 6ms/step - loss: 0.0299 - accuracy: 0.9937 - val_loss: 0.0252 - val_accuracy: 0.9942\n",
            "Epoch 21/40\n",
            "1688/1688 [==============================] - 10s 6ms/step - loss: 0.0278 - accuracy: 0.9937 - val_loss: 0.0246 - val_accuracy: 0.9928\n",
            "Epoch 22/40\n",
            "1688/1688 [==============================] - 10s 6ms/step - loss: 0.0304 - accuracy: 0.9933 - val_loss: 0.0459 - val_accuracy: 0.9898\n",
            "Epoch 23/40\n",
            "1688/1688 [==============================] - 10s 6ms/step - loss: 0.0279 - accuracy: 0.9942 - val_loss: 0.0323 - val_accuracy: 0.9938\n",
            "Epoch 24/40\n",
            "1688/1688 [==============================] - 10s 6ms/step - loss: 0.0316 - accuracy: 0.9934 - val_loss: 0.0204 - val_accuracy: 0.9955\n",
            "Epoch 25/40\n",
            "1688/1688 [==============================] - 10s 6ms/step - loss: 0.0313 - accuracy: 0.9930 - val_loss: 0.0233 - val_accuracy: 0.9932\n",
            "Epoch 26/40\n",
            "1688/1688 [==============================] - 10s 6ms/step - loss: 0.0341 - accuracy: 0.9931 - val_loss: 0.0458 - val_accuracy: 0.9910\n",
            "Epoch 27/40\n",
            "1688/1688 [==============================] - 10s 6ms/step - loss: 0.0306 - accuracy: 0.9932 - val_loss: 0.0237 - val_accuracy: 0.9943\n",
            "Epoch 28/40\n",
            "1688/1688 [==============================] - 10s 6ms/step - loss: 0.0321 - accuracy: 0.9931 - val_loss: 0.0230 - val_accuracy: 0.9948\n",
            "Epoch 29/40\n",
            "1688/1688 [==============================] - 10s 6ms/step - loss: 0.0293 - accuracy: 0.9936 - val_loss: 0.0400 - val_accuracy: 0.9923\n",
            "Epoch 30/40\n",
            "1688/1688 [==============================] - 10s 6ms/step - loss: 0.0329 - accuracy: 0.9927 - val_loss: 0.0237 - val_accuracy: 0.9948\n",
            "Epoch 31/40\n",
            "1688/1688 [==============================] - 10s 6ms/step - loss: 0.0356 - accuracy: 0.9927 - val_loss: 0.0260 - val_accuracy: 0.9923\n",
            "Epoch 32/40\n",
            "1688/1688 [==============================] - 10s 6ms/step - loss: 0.0337 - accuracy: 0.9929 - val_loss: 0.0725 - val_accuracy: 0.9863\n",
            "Epoch 33/40\n",
            "1688/1688 [==============================] - 10s 6ms/step - loss: 0.0342 - accuracy: 0.9933 - val_loss: 0.0337 - val_accuracy: 0.9927\n",
            "Epoch 34/40\n",
            "1688/1688 [==============================] - 10s 6ms/step - loss: 0.0348 - accuracy: 0.9928 - val_loss: 0.1240 - val_accuracy: 0.9903\n",
            "Epoch 35/40\n",
            "1688/1688 [==============================] - 10s 6ms/step - loss: 0.0285 - accuracy: 0.9939 - val_loss: 0.0345 - val_accuracy: 0.9948\n",
            "Epoch 36/40\n",
            "1688/1688 [==============================] - 10s 6ms/step - loss: 0.0349 - accuracy: 0.9932 - val_loss: 0.0910 - val_accuracy: 0.9753\n",
            "Epoch 37/40\n",
            "1688/1688 [==============================] - 10s 6ms/step - loss: 0.0340 - accuracy: 0.9934 - val_loss: 0.0319 - val_accuracy: 0.9910\n",
            "Epoch 38/40\n",
            "1688/1688 [==============================] - 10s 6ms/step - loss: 0.0336 - accuracy: 0.9933 - val_loss: 0.0421 - val_accuracy: 0.9920\n",
            "Epoch 39/40\n",
            "1688/1688 [==============================] - 10s 6ms/step - loss: 0.0316 - accuracy: 0.9938 - val_loss: 0.0430 - val_accuracy: 0.9930\n",
            "Epoch 40/40\n",
            "1688/1688 [==============================] - 10s 6ms/step - loss: 0.0383 - accuracy: 0.9937 - val_loss: 0.0309 - val_accuracy: 0.9948\n"
          ],
          "name": "stdout"
        }
      ]
    },
    {
      "cell_type": "code",
      "metadata": {
        "id": "dE9alo8fkenl",
        "colab_type": "code",
        "outputId": "ff6b1954-453a-4b9f-8161-2d68247715ee",
        "colab": {
          "base_uri": "https://localhost:8080/",
          "height": 295
        }
      },
      "source": [
        "# plot train and validation accuracy\n",
        "\n",
        "plt.plot(result.history['accuracy'], color='b', label='training accuracy')\n",
        "plt.plot(result.history['val_accuracy'], color='r', label='validation accuracy')\n",
        "plt.title('Accuracy Of Model')\n",
        "plt.ylabel(' Accuracy')\n",
        "plt.xlabel('  Epoch')\n",
        "plt.legend(['Train', 'Validation'], loc='lower right')\n",
        "plt.show()"
      ],
      "execution_count": 30,
      "outputs": [
        {
          "output_type": "display_data",
          "data": {
            "image/png": "[encoded data removed]",
            "text/plain": [
              "<Figure size 432x288 with 1 Axes>"
            ]
          },
          "metadata": {
            "tags": [],
            "needs_background": "light"
          }
        }
      ]
    },
    {
      "cell_type": "code",
      "metadata": {
        "id": "M2jPUQAQrP7c",
        "colab_type": "code",
        "outputId": "6f64a794-948f-4fa2-8936-c2bab907cf6b",
        "colab": {
          "base_uri": "https://localhost:8080/",
          "height": 295
        }
      },
      "source": [
        "# plot train and validation accuracy\n",
        "\n",
        "plt.plot(result.history['loss'], color='b', label='training loss')\n",
        "plt.plot(result.history['val_loss'], color='r', label='validation loss')\n",
        "plt.title('Loss Of Model')\n",
        "plt.ylabel(' Loss')\n",
        "plt.xlabel('  Epoch')\n",
        "plt.legend(['Train', 'Validation'], loc='upper right')\n",
        "plt.show()"
      ],
      "execution_count": 32,
      "outputs": [
        {
          "output_type": "display_data",
          "data": {
            "image/png": "[encoded data removed]",
            "text/plain": [
              "<Figure size 432x288 with 1 Axes>"
            ]
          },
          "metadata": {
            "tags": [],
            "needs_background": "light"
          }
        }
      ]
    },
    {
      "cell_type": "code",
      "metadata": {
        "id": "gkbiDYxWy_Q1",
        "colab_type": "code",
        "outputId": "412f1a01-9001-4081-ecb0-dd15b8b45088",
        "colab": {
          "base_uri": "https://localhost:8080/",
          "height": 54
        }
      },
      "source": [
        "model.evaluate(X_val, Y_val, verbose=1)"
      ],
      "execution_count": 33,
      "outputs": [
        {
          "output_type": "stream",
          "text": [
            "188/188 [==============================] - 1s 3ms/step - loss: 0.0309 - accuracy: 0.9948\n"
          ],
          "name": "stdout"
        },
        {
          "output_type": "execute_result",
          "data": {
            "text/plain": [
              "[0.030880099162459373, 0.9948333501815796]"
            ]
          },
          "metadata": {
            "tags": []
          },
          "execution_count": 33
        }
      ]
    },
    {
      "cell_type": "code",
      "metadata": {
        "id": "Timtz7b1r7tN",
        "colab_type": "code",
        "outputId": "4e619e56-d495-4865-9cd0-aa9027ae5e3e",
        "colab": {
          "base_uri": "https://localhost:8080/",
          "height": 54
        }
      },
      "source": [
        "model.evaluate(X_test, Y_test, verbose=1)"
      ],
      "execution_count": 36,
      "outputs": [
        {
          "output_type": "stream",
          "text": [
            "625/625 [==============================] - 2s 3ms/step - loss: 0.0809 - accuracy: 0.9875\n"
          ],
          "name": "stdout"
        },
        {
          "output_type": "execute_result",
          "data": {
            "text/plain": [
              "[0.08092094212770462, 0.987500011920929]"
            ]
          },
          "metadata": {
            "tags": []
          },
          "execution_count": 36
        }
      ]
    },
    {
      "cell_type": "code",
      "metadata": {
        "id": "MvuqTnPFz76s",
        "colab_type": "code",
        "colab": {}
      },
      "source": [
        "import pandas as pd\n",
        "\n",
        "results = model.predict(X_test)\n",
        "results = np.argmax(results,axis = 1)\n",
        "results = pd.Series(results)\n"
      ],
      "execution_count": 0,
      "outputs": []
    },
    {
      "cell_type": "code",
      "metadata": {
        "id": "uzuJb-3b_ooC",
        "colab_type": "code",
        "colab": {
          "base_uri": "https://localhost:8080/",
          "height": 240
        },
        "outputId": "187922ba-325e-4dcb-a37a-c80defef27a2"
      },
      "source": [
        "results"
      ],
      "execution_count": 59,
      "outputs": [
        {
          "output_type": "execute_result",
          "data": {
            "text/plain": [
              "0        0\n",
              "1        0\n",
              "2        5\n",
              "3        0\n",
              "4        0\n",
              "        ..\n",
              "19995    9\n",
              "19996    9\n",
              "19997    9\n",
              "19998    9\n",
              "19999    9\n",
              "Length: 20000, dtype: int64"
            ]
          },
          "metadata": {
            "tags": []
          },
          "execution_count": 59
        }
      ]
    },
    {
      "cell_type": "code",
      "metadata": {
        "id": "rWw2sZYaFUeA",
        "colab_type": "code",
        "colab": {}
      },
      "source": [
        "submission = pd.concat([pd.Series(range(1,28001),name = \"ImageId\"),results],axis = 1)\n",
        "\n",
        "submission.to_csv(\"cnn_hoda_dataset.csv\",index=False)"
      ],
      "execution_count": 0,
      "outputs": []
    },
    {
      "cell_type": "code",
      "metadata": {
        "id": "AYtiSI0G4aEC",
        "colab_type": "code",
        "outputId": "ed627ef2-b634-4d34-c8b4-c66d6d02afbe",
        "colab": {
          "base_uri": "https://localhost:8080/",
          "height": 641
        }
      },
      "source": [
        "model_2.summary()\n",
        "\n"
      ],
      "execution_count": 0,
      "outputs": [
        {
          "output_type": "stream",
          "text": [
            "Model: \"sequential_43\"\n",
            "_________________________________________________________________\n",
            "Layer (type)                 Output Shape              Param #   \n",
            "=================================================================\n",
            "conv2d_170 (Conv2D)          (None, 32, 32, 32)        832       \n",
            "_________________________________________________________________\n",
            "conv2d_171 (Conv2D)          (None, 32, 32, 32)        25632     \n",
            "_________________________________________________________________\n",
            "max_pooling2d_113 (MaxPoolin (None, 16, 16, 32)        0         \n",
            "_________________________________________________________________\n",
            "conv2d_172 (Conv2D)          (None, 16, 16, 64)        18496     \n",
            "_________________________________________________________________\n",
            "max_pooling2d_114 (MaxPoolin (None, 8, 8, 64)          0         \n",
            "_________________________________________________________________\n",
            "dropout_90 (Dropout)         (None, 8, 8, 64)          0         \n",
            "_________________________________________________________________\n",
            "conv2d_173 (Conv2D)          (None, 8, 8, 64)          36928     \n",
            "_________________________________________________________________\n",
            "conv2d_174 (Conv2D)          (None, 8, 8, 64)          36928     \n",
            "_________________________________________________________________\n",
            "max_pooling2d_115 (MaxPoolin (None, 4, 4, 64)          0         \n",
            "_________________________________________________________________\n",
            "flatten_42 (Flatten)         (None, 1024)              0         \n",
            "_________________________________________________________________\n",
            "dense_91 (Dense)             (None, 512)               524800    \n",
            "_________________________________________________________________\n",
            "dropout_91 (Dropout)         (None, 512)               0         \n",
            "_________________________________________________________________\n",
            "dense_92 (Dense)             (None, 10)                5130      \n",
            "=================================================================\n",
            "Total params: 648,746\n",
            "Trainable params: 648,746\n",
            "Non-trainable params: 0\n",
            "_________________________________________________________________\n"
          ],
          "name": "stdout"
        }
      ]
    },
    {
      "cell_type": "code",
      "metadata": {
        "id": "Wwum92w8mA-S",
        "colab_type": "code",
        "colab": {}
      },
      "source": [
        ""
      ],
      "execution_count": 0,
      "outputs": []
    }
  ]
}