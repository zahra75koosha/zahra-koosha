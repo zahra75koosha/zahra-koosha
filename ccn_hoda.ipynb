{
  "nbformat": 4,
  "nbformat_minor": 0,
  "metadata": {
    "colab": {
      "name": "Copy of Untitled5.ipynb",
      "provenance": [],
      "collapsed_sections": [],
      "authorship_tag": "ABX9TyOLNppFOpvyzathNAh4x0Ek",
      "include_colab_link": true
    },
    "kernelspec": {
      "name": "python3",
      "display_name": "Python 3"
    },
    "accelerator": "GPU"
  },
  "cells": [
    {
      "cell_type": "markdown",
      "metadata": {
        "id": "view-in-github",
        "colab_type": "text"
      },
      "source": [
        "<a href=\"https://colab.research.google.com/github/zahra75koosha/zahra-koosha/blob/master/ccn_hoda.ipynb\" target=\"_parent\"><img src=\"https://colab.research.google.com/assets/colab-badge.svg\" alt=\"Open In Colab\"/></a>"
      ]
    },
    {
      "cell_type": "code",
      "metadata": {
        "id": "EO_Rub4CYScI",
        "colab_type": "code",
        "colab": {}
      },
      "source": [
        "!pip3 uninstall tensorflow\n",
        "!pip3 install tensorflow.gpu==2.0.0"
      ],
      "execution_count": 0,
      "outputs": []
    },
    {
      "cell_type": "code",
      "metadata": {
        "id": "mckbigMyZGWe",
        "colab_type": "code",
        "outputId": "4da228c1-3309-4c89-d9c1-6698c0239b48",
        "colab": {
          "base_uri": "https://localhost:8080/",
          "height": 129
        }
      },
      "source": [
        "from google.colab import drive\n",
        "drive.mount('/content/drive')"
      ],
      "execution_count": 0,
      "outputs": [
        {
          "output_type": "stream",
          "text": [
            "Go to this URL in a browser: https://accounts.google.com/o/oauth2/auth?client_id=947318989803-6bn6qk8qdgf4n4g3pfee6491hc0brc4i.apps.googleusercontent.com&redirect_uri=urn%3aietf%3awg%3aoauth%3a2.0%3aoob&response_type=code&scope=email%20https%3a%2f%2fwww.googleapis.com%2fauth%2fdocs.test%20https%3a%2f%2fwww.googleapis.com%2fauth%2fdrive%20https%3a%2f%2fwww.googleapis.com%2fauth%2fdrive.photos.readonly%20https%3a%2f%2fwww.googleapis.com%2fauth%2fpeopleapi.readonly\n",
            "\n",
            "Enter your authorization code:\n",
            "··········\n",
            "Mounted at /content/drive\n"
          ],
          "name": "stdout"
        }
      ]
    },
    {
      "cell_type": "code",
      "metadata": {
        "id": "YS189VZjZGlr",
        "colab_type": "code",
        "outputId": "11683671-d288-43bd-d7ea-a5e072de5bf7",
        "colab": {
          "base_uri": "https://localhost:8080/",
          "height": 72
        }
      },
      "source": [
        "%cd /content/drive/My Drive/hoda dataset\n",
        "%ls"
      ],
      "execution_count": 0,
      "outputs": [
        {
          "output_type": "stream",
          "text": [
            "/content/drive/My Drive/hoda dataset\n",
            " hoda_dataset_helper.py   RemainingSamples.cdb  'Train 60000.cdb'\n",
            " \u001b[0m\u001b[01;34m__pycache__\u001b[0m/            'Test 20000.cdb'\n"
          ],
          "name": "stdout"
        }
      ]
    },
    {
      "cell_type": "code",
      "metadata": {
        "id": "kzQ15_qcZG00",
        "colab_type": "code",
        "colab": {}
      },
      "source": [
        "\n",
        "from hoda_dataset_helper import __read_hoda_dataset\n",
        "from hoda_dataset_helper import __read_hoda_cdb\n",
        "\n",
        "import os\n",
        "import numpy as np\n",
        "import pandas as pd\n",
        "import matplotlib.pyplot as plt\n",
        "%matplotlib inline\n",
        "\n",
        "np.random.seed(2)\n",
        "\n",
        "import tensorflow as tf\n",
        "from tensorflow.keras.models import Sequential\n",
        "\n",
        "from tensorflow.keras.preprocessing.image import ImageDataGenerator\n",
        "from tensorflow.keras import Model \n",
        "from tensorflow.keras.layers import Conv2D, Dense, MaxPool2D, Dropout, Flatten,GlobalAveragePooling2D\n",
        "\n",
        "from tensorflow.keras.callbacks import ReduceLROnPlateau"
      ],
      "execution_count": 0,
      "outputs": []
    },
    {
      "cell_type": "markdown",
      "metadata": {
        "id": "FdobttlycOrU",
        "colab_type": "text"
      },
      "source": [
        "Load Dataset"
      ]
    },
    {
      "cell_type": "code",
      "metadata": {
        "id": "fEdYJC_EZHDs",
        "colab_type": "code",
        "colab": {}
      },
      "source": [
        "# Reading train dataset \n",
        "X_train, Y_train = __read_hoda_dataset(dataset_path='./Train 60000.cdb',\n",
        "                                images_height=32,\n",
        "                                images_width=32,\n",
        "                                one_hot=True, # set one hot= True to encode training_label to one hot vector\n",
        "                                reshape=True)"
      ],
      "execution_count": 0,
      "outputs": []
    },
    {
      "cell_type": "code",
      "metadata": {
        "id": "dZoa2Ak6ZHTN",
        "colab_type": "code",
        "colab": {}
      },
      "source": [
        "# reading test dataset\n",
        "X_test, Y_test = __read_hoda_dataset(dataset_path='./Test 20000.cdb',\n",
        "                              images_height=32,\n",
        "                              images_width=32,\n",
        "                              one_hot=True,\n",
        "                              reshape=False)"
      ],
      "execution_count": 0,
      "outputs": []
    },
    {
      "cell_type": "code",
      "metadata": {
        "id": "dLaHCGpXZHih",
        "colab_type": "code",
        "colab": {}
      },
      "source": [
        "# Reading remain samples dataset \n",
        "X_remain, Y_remain = __read_hoda_dataset('./RemainingSamples.cdb',\n",
        "                                             images_height=32,\n",
        "                                             images_width=32,\n",
        "                                             one_hot=True,\n",
        "                                             reshape=True)"
      ],
      "execution_count": 0,
      "outputs": []
    },
    {
      "cell_type": "code",
      "metadata": {
        "id": "4gy0_tUQZHxP",
        "colab_type": "code",
        "colab": {}
      },
      "source": [
        "# reading train image\n",
        "train_images, train_labels = __read_hoda_cdb('./Train 60000.cdb')"
      ],
      "execution_count": 0,
      "outputs": []
    },
    {
      "cell_type": "code",
      "metadata": {
        "id": "t-pHqTR2ZICy",
        "colab_type": "code",
        "colab": {}
      },
      "source": [
        "# reading test image\n",
        "test_images, test_labels = __read_hoda_cdb('./Test 20000.cdb')"
      ],
      "execution_count": 0,
      "outputs": []
    },
    {
      "cell_type": "code",
      "metadata": {
        "id": "drQ-EsuKdF8M",
        "colab_type": "code",
        "outputId": "805a1c1f-1ea6-4fd5-bd62-0f6445e23ff7",
        "colab": {
          "base_uri": "https://localhost:8080/",
          "height": 231
        }
      },
      "source": [
        "# plot a data sample\n",
        "fig = plt.figure(figsize=(15, 3))\n",
        "plt.imshow(train_images[11])"
      ],
      "execution_count": 0,
      "outputs": [
        {
          "output_type": "execute_result",
          "data": {
            "text/plain": [
              "<matplotlib.image.AxesImage at 0x7f61b03da0f0>"
            ]
          },
          "metadata": {
            "tags": []
          },
          "execution_count": 38
        },
        {
          "output_type": "display_data",
          "data": {
            "image/png": "[encoded data removed]",
            "text/plain": [
              "<Figure size 1080x216 with 1 Axes>"
            ]
          },
          "metadata": {
            "tags": [],
            "needs_background": "light"
          }
        }
      ]
    },
    {
      "cell_type": "code",
      "metadata": {
        "id": "A2E1di4UdMN2",
        "colab_type": "code",
        "colab": {}
      },
      "source": [
        "#normalization\n",
        "X_train =X_train / 255.0\n",
        "X_test = X_test /255.0"
      ],
      "execution_count": 0,
      "outputs": []
    },
    {
      "cell_type": "code",
      "metadata": {
        "id": "0-Km4lHKePSC",
        "colab_type": "code",
        "colab": {}
      },
      "source": [
        "# reshape the train_samples to 3 dimension\n",
        "X_train=X_train.reshape(-1,32,32,1)\n",
        "X_remain=X_remain.reshape(-1,32,32,1)\n"
      ],
      "execution_count": 0,
      "outputs": []
    },
    {
      "cell_type": "code",
      "metadata": {
        "id": "JljKpUsvezCr",
        "colab_type": "code",
        "outputId": "c322c8bd-e78f-431a-8040-28c2a6403acf",
        "colab": {
          "base_uri": "https://localhost:8080/",
          "height": 127
        }
      },
      "source": [
        "print(f'shape of X_train is : {X_train.shape}')\n",
        "print(f'shape of Y_train is : {Y_train.shape}')\n",
        "\n",
        "print(f'shape of X_test is : {X_test.shape}')\n",
        "print(f'shape of Y_test is : {Y_test.shape}')\n",
        "\n",
        "print(f'shape of X_reamin is : {X_remain.shape}')\n",
        "print(f'shape of Y_remain is : {Y_remain.shape}')"
      ],
      "execution_count": 0,
      "outputs": [
        {
          "output_type": "stream",
          "text": [
            "shape of X_train is : (60000, 32, 32, 1)\n",
            "shape of Y_train is : (60000, 10)\n",
            "shape of X_test is : (20000, 32, 32, 1)\n",
            "shape of Y_test is : (20000, 10)\n",
            "shape of X_reamin is : (22352, 32, 32, 1)\n",
            "shape of Y_remain is : (22352, 10)\n"
          ],
          "name": "stdout"
        }
      ]
    },
    {
      "cell_type": "code",
      "metadata": {
        "id": "NZIK0yeRfMjP",
        "colab_type": "code",
        "colab": {}
      },
      "source": [
        "# split training dataset to validation and train samples\n",
        "random_seed=2\n",
        "from sklearn.model_selection import train_test_split\n",
        "X_train,X_val,Y_train,Y_val= train_test_split(X_train,Y_train,test_size=0.1, random_state=random_seed)"
      ],
      "execution_count": 0,
      "outputs": []
    },
    {
      "cell_type": "code",
      "metadata": {
        "id": "W9Kf1OeTgzK9",
        "colab_type": "code",
        "outputId": "7b8043bf-8e9d-4efd-f4b5-34423ba4cbfc",
        "colab": {
          "base_uri": "https://localhost:8080/",
          "height": 54
        }
      },
      "source": [
        "print(f'shape of X_val is : {X_val.shape}')\n",
        "print(f'shape of Y_val is : {Y_val.shape}')"
      ],
      "execution_count": 0,
      "outputs": [
        {
          "output_type": "stream",
          "text": [
            "shape of X_val is : (6000, 32, 32, 1)\n",
            "shape of Y_val is : (6000, 10)\n"
          ],
          "name": "stdout"
        }
      ]
    },
    {
      "cell_type": "markdown",
      "metadata": {
        "id": "SNQX8uRihFBv",
        "colab_type": "text"
      },
      "source": [
        "CNN model"
      ]
    },
    {
      "cell_type": "code",
      "metadata": {
        "id": "D6TTN6xyg5s5",
        "colab_type": "code",
        "colab": {}
      },
      "source": [
        "model= Sequential()\n",
        "\n",
        "model.add(Conv2D(32,(5,5), activation='relu', padding='same', input_shape=(32,32,1)))\n",
        "model.add(Conv2D(32,(5,5), activation='relu', padding='same'))\n",
        "model.add(MaxPool2D(pool_size=(2,2)))\n",
        "model.add(Dropout(0.25))\n",
        "\n",
        "model.add(Conv2D(64,(3,3), activation='relu', padding='same'))\n",
        "model.add(Conv2D(64,(3,3), activation='relu', padding='same'))\n",
        "\n",
        "model.add(MaxPool2D(pool_size=(2,2), strides=(2,2)))\n",
        "model.add(Dropout(0.25))\n",
        "\n",
        "# classifier\n",
        "model.add(Flatten())\n",
        "model.add(Dense(256, activation='relu'))\n",
        "model.add(Dropout(0.5))\n",
        "model.add(Dense(10, activation='softmax'))\n",
        "\n"
      ],
      "execution_count": 0,
      "outputs": []
    },
    {
      "cell_type": "code",
      "metadata": {
        "id": "xdvSVnYjjysF",
        "colab_type": "code",
        "outputId": "64db79e0-402c-4852-d93e-1e127a93aee7",
        "colab": {
          "base_uri": "https://localhost:8080/",
          "height": 605
        }
      },
      "source": [
        "model.summary()"
      ],
      "execution_count": 0,
      "outputs": [
        {
          "output_type": "stream",
          "text": [
            "Model: \"sequential_1\"\n",
            "_________________________________________________________________\n",
            "Layer (type)                 Output Shape              Param #   \n",
            "=================================================================\n",
            "conv2d_4 (Conv2D)            (None, 32, 32, 32)        832       \n",
            "_________________________________________________________________\n",
            "conv2d_5 (Conv2D)            (None, 32, 32, 32)        25632     \n",
            "_________________________________________________________________\n",
            "max_pooling2d_2 (MaxPooling2 (None, 16, 16, 32)        0         \n",
            "_________________________________________________________________\n",
            "dropout_3 (Dropout)          (None, 16, 16, 32)        0         \n",
            "_________________________________________________________________\n",
            "conv2d_6 (Conv2D)            (None, 16, 16, 64)        18496     \n",
            "_________________________________________________________________\n",
            "conv2d_7 (Conv2D)            (None, 16, 16, 64)        36928     \n",
            "_________________________________________________________________\n",
            "max_pooling2d_3 (MaxPooling2 (None, 8, 8, 64)          0         \n",
            "_________________________________________________________________\n",
            "dropout_4 (Dropout)          (None, 8, 8, 64)          0         \n",
            "_________________________________________________________________\n",
            "flatten_1 (Flatten)          (None, 4096)              0         \n",
            "_________________________________________________________________\n",
            "dense_2 (Dense)              (None, 256)               1048832   \n",
            "_________________________________________________________________\n",
            "dropout_5 (Dropout)          (None, 256)               0         \n",
            "_________________________________________________________________\n",
            "dense_3 (Dense)              (None, 10)                2570      \n",
            "=================================================================\n",
            "Total params: 1,133,290\n",
            "Trainable params: 1,133,290\n",
            "Non-trainable params: 0\n",
            "_________________________________________________________________\n"
          ],
          "name": "stdout"
        }
      ]
    },
    {
      "cell_type": "code",
      "metadata": {
        "id": "WESU7Gscj2pH",
        "colab_type": "code",
        "colab": {}
      },
      "source": [
        "model.compile(loss='categorical_crossentropy', optimizer='rmsprop', metrics=['accuracy'])"
      ],
      "execution_count": 0,
      "outputs": []
    },
    {
      "cell_type": "code",
      "metadata": {
        "id": "rJQAfHBukUa8",
        "colab_type": "code",
        "colab": {}
      },
      "source": [
        "epochs = 30 # Turn epochs to 30 to get 0.9967 accuracy\n",
        "batch_size = 32"
      ],
      "execution_count": 0,
      "outputs": []
    },
    {
      "cell_type": "code",
      "metadata": {
        "id": "cme3VswQkZDk",
        "colab_type": "code",
        "outputId": "4f561e58-10be-4888-abe0-56156afe5af4",
        "colab": {
          "base_uri": "https://localhost:8080/",
          "height": 790
        }
      },
      "source": [
        "result=model.fit(X_train, Y_train, epochs=epochs, batch_size=batch_size, validation_data=(X_val,Y_val), verbose=1)"
      ],
      "execution_count": 0,
      "outputs": [
        {
          "output_type": "stream",
          "text": [
            "Train on 54000 samples, validate on 6000 samples\n",
            "Epoch 1/20\n",
            "54000/54000 [==============================] - 33s 607us/sample - loss: 0.2639 - accuracy: 0.9113 - val_loss: 0.0783 - val_accuracy: 0.9832\n",
            "Epoch 2/20\n",
            "54000/54000 [==============================] - 26s 486us/sample - loss: 0.0539 - accuracy: 0.9840 - val_loss: 0.0293 - val_accuracy: 0.9903\n",
            "Epoch 3/20\n",
            "54000/54000 [==============================] - 26s 476us/sample - loss: 0.0448 - accuracy: 0.9879 - val_loss: 0.0229 - val_accuracy: 0.9928\n",
            "Epoch 4/20\n",
            "54000/54000 [==============================] - 26s 478us/sample - loss: 0.0424 - accuracy: 0.9887 - val_loss: 0.0284 - val_accuracy: 0.9925\n",
            "Epoch 5/20\n",
            "54000/54000 [==============================] - 26s 478us/sample - loss: 0.0408 - accuracy: 0.9890 - val_loss: 0.0303 - val_accuracy: 0.9913\n",
            "Epoch 6/20\n",
            "54000/54000 [==============================] - 26s 477us/sample - loss: 0.0419 - accuracy: 0.9887 - val_loss: 0.0280 - val_accuracy: 0.9918\n",
            "Epoch 7/20\n",
            "54000/54000 [==============================] - 26s 481us/sample - loss: 0.0410 - accuracy: 0.9889 - val_loss: 0.0410 - val_accuracy: 0.9890\n",
            "Epoch 8/20\n",
            "54000/54000 [==============================] - 26s 477us/sample - loss: 0.0418 - accuracy: 0.9891 - val_loss: 0.0226 - val_accuracy: 0.9933\n",
            "Epoch 9/20\n",
            "54000/54000 [==============================] - 26s 477us/sample - loss: 0.0439 - accuracy: 0.9885 - val_loss: 0.0286 - val_accuracy: 0.9920\n",
            "Epoch 10/20\n",
            "54000/54000 [==============================] - 26s 475us/sample - loss: 0.0463 - accuracy: 0.9883 - val_loss: 0.0309 - val_accuracy: 0.9923\n",
            "Epoch 11/20\n",
            "54000/54000 [==============================] - 26s 476us/sample - loss: 0.0449 - accuracy: 0.9889 - val_loss: 0.0277 - val_accuracy: 0.9922\n",
            "Epoch 12/20\n",
            "54000/54000 [==============================] - 26s 476us/sample - loss: 0.0465 - accuracy: 0.9887 - val_loss: 0.0253 - val_accuracy: 0.9918\n",
            "Epoch 13/20\n",
            "54000/54000 [==============================] - 26s 476us/sample - loss: 0.0466 - accuracy: 0.9891 - val_loss: 0.0269 - val_accuracy: 0.9918\n",
            "Epoch 14/20\n",
            "54000/54000 [==============================] - 26s 484us/sample - loss: 0.0490 - accuracy: 0.9891 - val_loss: 0.0240 - val_accuracy: 0.9932\n",
            "Epoch 15/20\n",
            "54000/54000 [==============================] - 26s 476us/sample - loss: 0.0499 - accuracy: 0.9888 - val_loss: 0.0249 - val_accuracy: 0.9927\n",
            "Epoch 16/20\n",
            "54000/54000 [==============================] - 26s 477us/sample - loss: 0.0512 - accuracy: 0.9883 - val_loss: 0.0301 - val_accuracy: 0.9910\n",
            "Epoch 17/20\n",
            "54000/54000 [==============================] - 26s 476us/sample - loss: 0.0498 - accuracy: 0.9883 - val_loss: 0.0189 - val_accuracy: 0.9942\n",
            "Epoch 18/20\n",
            "54000/54000 [==============================] - 26s 476us/sample - loss: 0.0533 - accuracy: 0.9881 - val_loss: 0.0283 - val_accuracy: 0.9920\n",
            "Epoch 19/20\n",
            "54000/54000 [==============================] - 26s 481us/sample - loss: 0.0537 - accuracy: 0.9883 - val_loss: 0.0444 - val_accuracy: 0.9908\n",
            "Epoch 20/20\n",
            "54000/54000 [==============================] - 26s 476us/sample - loss: 0.0577 - accuracy: 0.9874 - val_loss: 0.0337 - val_accuracy: 0.9905\n"
          ],
          "name": "stdout"
        }
      ]
    },
    {
      "cell_type": "code",
      "metadata": {
        "id": "dE9alo8fkenl",
        "colab_type": "code",
        "colab": {}
      },
      "source": [
        ""
      ],
      "execution_count": 0,
      "outputs": []
    }
  ]
}