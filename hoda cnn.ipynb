{
  "nbformat": 4,
  "nbformat_minor": 0,
  "metadata": {
    "colab": {
      "name": "Untitled3.ipynb",
      "provenance": [],
      "collapsed_sections": [],
      "authorship_tag": "ABX9TyNpX6xNII1y1yEgAg6aJ522",
      "include_colab_link": true
    },
    "kernelspec": {
      "name": "python3",
      "display_name": "Python 3"
    },
    "accelerator": "GPU"
  },
  "cells": [
    {
      "cell_type": "markdown",
      "metadata": {
        "id": "view-in-github",
        "colab_type": "text"
      },
      "source": [
        "<a href=\"https://colab.research.google.com/github/zahra75koosha/zahra-koosha/blob/master/hoda%20cnn.ipynb\" target=\"_parent\"><img src=\"https://colab.research.google.com/assets/colab-badge.svg\" alt=\"Open In Colab\"/></a>"
      ]
    },
    {
      "cell_type": "code",
      "metadata": {
        "id": "A4AFewcLBxhD",
        "colab_type": "code",
        "colab": {}
      },
      "source": [
        "!pip3 uninstall tensorflow\n",
        "!pip3 install tensorflow.gpu==2.0.0"
      ],
      "execution_count": 0,
      "outputs": []
    },
    {
      "cell_type": "code",
      "metadata": {
        "id": "4vd_Sf7qqm1o",
        "colab_type": "code",
        "colab": {
          "base_uri": "https://localhost:8080/",
          "height": 122
        },
        "outputId": "402e4835-3e08-42e6-fd5b-fa1efc41f3ef"
      },
      "source": [
        "from google.colab import drive\n",
        "drive.mount('/content/drive')"
      ],
      "execution_count": 3,
      "outputs": [
        {
          "output_type": "stream",
          "text": [
            "Go to this URL in a browser: https://accounts.google.com/o/oauth2/auth?client_id=947318989803-6bn6qk8qdgf4n4g3pfee6491hc0brc4i.apps.googleusercontent.com&redirect_uri=urn%3aietf%3awg%3aoauth%3a2.0%3aoob&response_type=code&scope=email%20https%3a%2f%2fwww.googleapis.com%2fauth%2fdocs.test%20https%3a%2f%2fwww.googleapis.com%2fauth%2fdrive%20https%3a%2f%2fwww.googleapis.com%2fauth%2fdrive.photos.readonly%20https%3a%2f%2fwww.googleapis.com%2fauth%2fpeopleapi.readonly\n",
            "\n",
            "Enter your authorization code:\n",
            "··········\n",
            "Mounted at /content/drive\n"
          ],
          "name": "stdout"
        }
      ]
    },
    {
      "cell_type": "code",
      "metadata": {
        "id": "pat8RM7oDcff",
        "colab_type": "code",
        "colab": {
          "base_uri": "https://localhost:8080/",
          "height": 68
        },
        "outputId": "e7438be8-b5ec-469a-b591-4352c58425ca"
      },
      "source": [
        "%cd /content/drive/My Drive/hoda dataset\n",
        "%ls"
      ],
      "execution_count": 4,
      "outputs": [
        {
          "output_type": "stream",
          "text": [
            "/content/drive/My Drive/hoda dataset\n",
            " hoda_dataset_helper.py  'Test 20000.cdb'\n",
            " RemainingSamples.cdb    'Train 60000.cdb'\n"
          ],
          "name": "stdout"
        }
      ]
    },
    {
      "cell_type": "code",
      "metadata": {
        "id": "fsO5P2XDDc4r",
        "colab_type": "code",
        "colab": {}
      },
      "source": [
        "from hoda_dataset_helper import read_hoda\n",
        "from hoda_dataset_helper import __read_hoda_cdb\n",
        "from hoda_dataset_helper import __read_hoda_dataset\n",
        "\n",
        "import os\n",
        "import numpy as np\n",
        "import pandas as pd \n",
        "import matplotlib.pyplot as plt\n",
        "%matplotlib inline\n",
        "\n",
        "import tensorflow as tf \n",
        "from tensorflow.keras.preprocessing.image import ImageDataGenerator\n",
        "from tensorflow.keras import Model \n",
        "from tensorflow.keras.layers import Conv2D, Dense, MaxPooling2D, Dropout, Flatten,GlobalAveragePooling2D\n",
        "from tensorflow.keras.models import Sequential\n",
        "from tensorflow.keras.callbacks import ReduceLROnPlateau\n",
        "\n",
        "\n",
        "\n"
      ],
      "execution_count": 0,
      "outputs": []
    },
    {
      "cell_type": "markdown",
      "metadata": {
        "id": "Mb93mzEz6yN_",
        "colab_type": "text"
      },
      "source": [
        " Load Dataset"
      ]
    },
    {
      "cell_type": "code",
      "metadata": {
        "id": "mnE3ckEiTgNF",
        "colab_type": "code",
        "colab": {}
      },
      "source": [
        "# Reading train dataset \n",
        "X_train, Y_train = __read_hoda_dataset(dataset_path='./Train 60000.cdb',\n",
        "                                images_height=32,\n",
        "                                images_width=32,\n",
        "                                one_hot=True, # set one hot= True to encode training_label to one hot vector\n",
        "                                reshape=True)"
      ],
      "execution_count": 0,
      "outputs": []
    },
    {
      "cell_type": "code",
      "metadata": {
        "id": "e2nXMg_SXG7f",
        "colab_type": "code",
        "colab": {}
      },
      "source": [
        "# reading test dataset\n",
        "X_test, Y_test = __read_hoda_dataset(dataset_path='./Test 20000.cdb',\n",
        "                              images_height=32,\n",
        "                              images_width=32,\n",
        "                              one_hot=True,\n",
        "                              reshape=False)"
      ],
      "execution_count": 0,
      "outputs": []
    },
    {
      "cell_type": "code",
      "metadata": {
        "id": "wW_WfqFcYxOO",
        "colab_type": "code",
        "colab": {}
      },
      "source": [
        "# Reading remain samples dataset \n",
        "X_remain, Y_remain = __read_hoda_dataset('./RemainingSamples.cdb',\n",
        "                                             images_height=32,\n",
        "                                             images_width=32,\n",
        "                                             one_hot=True,\n",
        "                                             reshape=True)"
      ],
      "execution_count": 0,
      "outputs": []
    },
    {
      "cell_type": "code",
      "metadata": {
        "id": "tBdy4GVegBId",
        "colab_type": "code",
        "colab": {}
      },
      "source": [
        "# reading train image\n",
        "train_images, train_labels = __read_hoda_cdb('./Train 60000.cdb')"
      ],
      "execution_count": 0,
      "outputs": []
    },
    {
      "cell_type": "code",
      "metadata": {
        "id": "00daCTlkgEUK",
        "colab_type": "code",
        "colab": {}
      },
      "source": [
        "# reading test image\n",
        "test_images, test_labels = __read_hoda_cdb('./Test 20000.cdb')"
      ],
      "execution_count": 0,
      "outputs": []
    },
    {
      "cell_type": "code",
      "metadata": {
        "id": "ih1HTjZOinxX",
        "colab_type": "code",
        "colab": {
          "base_uri": "https://localhost:8080/",
          "height": 229
        },
        "outputId": "f5ad44ac-dad5-457d-ef2f-eba89f6fe166"
      },
      "source": [
        "# plot a data sample\n",
        "fig = plt.figure(figsize=(15, 3))\n",
        "plt.imshow(train_images[0])"
      ],
      "execution_count": 208,
      "outputs": [
        {
          "output_type": "execute_result",
          "data": {
            "text/plain": [
              "<matplotlib.image.AxesImage at 0x7fc1feb8db38>"
            ]
          },
          "metadata": {
            "tags": []
          },
          "execution_count": 208
        },
        {
          "output_type": "display_data",
          "data": {
            "image/png": "[encoded data removed]",
            "text/plain": [
              "<Figure size 1080x216 with 1 Axes>"
            ]
          },
          "metadata": {
            "tags": [],
            "needs_background": "light"
          }
        }
      ]
    },
    {
      "cell_type": "markdown",
      "metadata": {
        "id": "A0bqmau4iqwe",
        "colab_type": "text"
      },
      "source": [
        "Data Preprocessing"
      ]
    },
    {
      "cell_type": "code",
      "metadata": {
        "id": "ujUNQEcKkOYW",
        "colab_type": "code",
        "colab": {}
      },
      "source": [
        "#normalization\n",
        "X_train =X_train / 255.0\n",
        "X_test = X_test /255.0\n"
      ],
      "execution_count": 0,
      "outputs": []
    },
    {
      "cell_type": "code",
      "metadata": {
        "id": "ZN-UWX5kzIaF",
        "colab_type": "code",
        "colab": {}
      },
      "source": [
        "# reshape the train_samples to 3 dimension\n",
        "X_train=X_train.reshape(-1,32,32,1)\n"
      ],
      "execution_count": 0,
      "outputs": []
    },
    {
      "cell_type": "code",
      "metadata": {
        "id": "W6VHBegdVbQO",
        "colab_type": "code",
        "colab": {
          "base_uri": "https://localhost:8080/",
          "height": 34
        },
        "outputId": "5970725a-b59a-4676-e366-9fdf799f2a39"
      },
      "source": [
        "X_train.shape\n"
      ],
      "execution_count": 226,
      "outputs": [
        {
          "output_type": "execute_result",
          "data": {
            "text/plain": [
              "(60000, 32, 32, 1)"
            ]
          },
          "metadata": {
            "tags": []
          },
          "execution_count": 226
        }
      ]
    },
    {
      "cell_type": "code",
      "metadata": {
        "id": "8gOUESUYVdcS",
        "colab_type": "code",
        "colab": {
          "base_uri": "https://localhost:8080/",
          "height": 34
        },
        "outputId": "6df9c629-5118-4c1e-a71d-5d3d36618516"
      },
      "source": [
        "Y_train.shape"
      ],
      "execution_count": 227,
      "outputs": [
        {
          "output_type": "execute_result",
          "data": {
            "text/plain": [
              "(60000, 10)"
            ]
          },
          "metadata": {
            "tags": []
          },
          "execution_count": 227
        }
      ]
    },
    {
      "cell_type": "code",
      "metadata": {
        "id": "dYTVaB6jXV8M",
        "colab_type": "code",
        "colab": {
          "base_uri": "https://localhost:8080/",
          "height": 34
        },
        "outputId": "8472f539-a82c-4c04-a061-b24804b1d6b6"
      },
      "source": [
        "X_test.shape"
      ],
      "execution_count": 228,
      "outputs": [
        {
          "output_type": "execute_result",
          "data": {
            "text/plain": [
              "(20000, 32, 32, 1)"
            ]
          },
          "metadata": {
            "tags": []
          },
          "execution_count": 228
        }
      ]
    },
    {
      "cell_type": "code",
      "metadata": {
        "id": "x7HD1-VZXWKt",
        "colab_type": "code",
        "colab": {
          "base_uri": "https://localhost:8080/",
          "height": 34
        },
        "outputId": "d417e1e5-1d54-4a1c-c167-bf3fa5d64633"
      },
      "source": [
        "Y_test.shape"
      ],
      "execution_count": 229,
      "outputs": [
        {
          "output_type": "execute_result",
          "data": {
            "text/plain": [
              "(20000, 10)"
            ]
          },
          "metadata": {
            "tags": []
          },
          "execution_count": 229
        }
      ]
    },
    {
      "cell_type": "code",
      "metadata": {
        "id": "qgPt8WsPYxbo",
        "colab_type": "code",
        "colab": {
          "base_uri": "https://localhost:8080/",
          "height": 34
        },
        "outputId": "d3f7ea5b-6f04-4fd2-d64b-ffe5d7936de0"
      },
      "source": [
        "X_remain.shape"
      ],
      "execution_count": 230,
      "outputs": [
        {
          "output_type": "execute_result",
          "data": {
            "text/plain": [
              "(22352, 1024)"
            ]
          },
          "metadata": {
            "tags": []
          },
          "execution_count": 230
        }
      ]
    },
    {
      "cell_type": "code",
      "metadata": {
        "id": "yiz_GGIlYxwX",
        "colab_type": "code",
        "colab": {
          "base_uri": "https://localhost:8080/",
          "height": 34
        },
        "outputId": "7ad99fb0-b4ab-4059-e64b-eaa4e8037dc9"
      },
      "source": [
        "Y_remain.shape"
      ],
      "execution_count": 231,
      "outputs": [
        {
          "output_type": "execute_result",
          "data": {
            "text/plain": [
              "(22352, 10)"
            ]
          },
          "metadata": {
            "tags": []
          },
          "execution_count": 231
        }
      ]
    },
    {
      "cell_type": "code",
      "metadata": {
        "id": "Fg35N00cgH83",
        "colab_type": "code",
        "colab": {
          "base_uri": "https://localhost:8080/",
          "height": 54
        },
        "outputId": "326dfaaf-c972-4a57-9212-b6836c1326f6"
      },
      "source": [
        "'''num_classes=10\n",
        "class_name = ['0','1', '2','3','4','5','6','7','8','9']\n",
        "sample_per_class= 5\n",
        "plt.figure(figsize=(16,8))'''\n",
        "\n",
        "'''for cls, name in  enumerate(class_name):\n",
        "  idxs= np.flatnonzero(train_labels == cls)\n",
        "  idxs= np.random.choice(idxs, sample_per_class, replace=False)\n",
        "  for i, idx in enumerate(idxs):\n",
        "    plt.subplot(sample_per_class, num_classes, i, num_classes+ cls +1)\n",
        "    plt.imshow(train_images[idx], interpolation='spline16')\n",
        "    plt.axis('off')\n",
        "    if i== 0:\n",
        "      plt.title(class_name[cls])'''\n",
        "\n"
      ],
      "execution_count": 232,
      "outputs": [
        {
          "output_type": "execute_result",
          "data": {
            "text/plain": [
              "\"for cls, name in  enumerate(class_name):\\n  idxs= np.flatnonzero(train_labels == cls)\\n  idxs= np.random.choice(idxs, sample_per_class, replace=False)\\n  for i, idx in enumerate(idxs):\\n    plt.subplot(sample_per_class, num_classes, i, num_classes+ cls +1)\\n    plt.imshow(train_images[idx], interpolation='spline16')\\n    plt.axis('off')\\n    if i== 0:\\n      plt.title(class_name[cls])\""
            ]
          },
          "metadata": {
            "tags": []
          },
          "execution_count": 232
        }
      ]
    },
    {
      "cell_type": "code",
      "metadata": {
        "id": "l9FD5SPOzIus",
        "colab_type": "code",
        "colab": {}
      },
      "source": [
        "# split training dataset to validation and train samples\n",
        "from sklearn.model_selection import train_test_split\n",
        "X_train,X_val,Y_train,Y_val= train_test_split(X_train,Y_train,test_size=0.2, random_state=1)"
      ],
      "execution_count": 0,
      "outputs": []
    },
    {
      "cell_type": "code",
      "metadata": {
        "id": "plY-nfgUzI8x",
        "colab_type": "code",
        "colab": {
          "base_uri": "https://localhost:8080/",
          "height": 34
        },
        "outputId": "d96c0a99-31b0-4dab-a1cc-ff5995a23610"
      },
      "source": [
        "X_val.shape\n"
      ],
      "execution_count": 241,
      "outputs": [
        {
          "output_type": "execute_result",
          "data": {
            "text/plain": [
              "(8640, 32, 32, 1)"
            ]
          },
          "metadata": {
            "tags": []
          },
          "execution_count": 241
        }
      ]
    },
    {
      "cell_type": "code",
      "metadata": {
        "id": "h1vrOszf0QjL",
        "colab_type": "code",
        "colab": {
          "base_uri": "https://localhost:8080/",
          "height": 34
        },
        "outputId": "1c4af07b-47e5-41c8-8253-df341e1fc930"
      },
      "source": [
        "Y_val.shape"
      ],
      "execution_count": 242,
      "outputs": [
        {
          "output_type": "execute_result",
          "data": {
            "text/plain": [
              "(8640, 10)"
            ]
          },
          "metadata": {
            "tags": []
          },
          "execution_count": 242
        }
      ]
    },
    {
      "cell_type": "code",
      "metadata": {
        "id": "5rbPPNYV2hee",
        "colab_type": "code",
        "colab": {}
      },
      "source": [
        ""
      ],
      "execution_count": 0,
      "outputs": []
    },
    {
      "cell_type": "code",
      "metadata": {
        "id": "p4HF1Lyk2kTm",
        "colab_type": "code",
        "colab": {}
      },
      "source": [
        ""
      ],
      "execution_count": 0,
      "outputs": []
    }
  ]
}